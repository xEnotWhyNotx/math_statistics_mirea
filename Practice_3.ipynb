{
 "cells": [
  {
   "cell_type": "code",
   "execution_count": 1,
   "id": "eab0f0da-1f9a-4065-b615-63bc8c731290",
   "metadata": {
    "is_executing": true
   },
   "outputs": [],
   "source": [
    "import pandas as pd\n",
    "import numpy as np\n",
    "import matplotlib.pyplot as plt\n",
    "from scipy import stats"
   ]
  },
  {
   "cell_type": "code",
   "execution_count": 2,
   "id": "738071a0b29a46e1",
   "metadata": {
    "ExecuteTime": {
     "end_time": "2023-10-14T06:13:05.166609400Z",
     "start_time": "2023-10-14T06:13:05.026764800Z"
    },
    "collapsed": false,
    "jupyter": {
     "outputs_hidden": false
    }
   },
   "outputs": [],
   "source": [
    "# Загрузим данные из файла в объект DataFrame и установим имя столбца 'Nums'\n",
    "df = pd.read_csv('1.txt', header=None)\n",
    "df.columns = ['Nums']"
   ]
  },
  {
   "cell_type": "code",
   "execution_count": 3,
   "id": "4a59f067-f446-46d1-917f-d2403470d1f7",
   "metadata": {},
   "outputs": [
    {
     "data": {
      "text/html": [
       "<div>\n",
       "<style scoped>\n",
       "    .dataframe tbody tr th:only-of-type {\n",
       "        vertical-align: middle;\n",
       "    }\n",
       "\n",
       "    .dataframe tbody tr th {\n",
       "        vertical-align: top;\n",
       "    }\n",
       "\n",
       "    .dataframe thead th {\n",
       "        text-align: right;\n",
       "    }\n",
       "</style>\n",
       "<table border=\"1\" class=\"dataframe\">\n",
       "  <thead>\n",
       "    <tr style=\"text-align: right;\">\n",
       "      <th></th>\n",
       "      <th>Nums</th>\n",
       "    </tr>\n",
       "  </thead>\n",
       "  <tbody>\n",
       "    <tr>\n",
       "      <th>count</th>\n",
       "      <td>32.000000</td>\n",
       "    </tr>\n",
       "    <tr>\n",
       "      <th>mean</th>\n",
       "      <td>5.279325</td>\n",
       "    </tr>\n",
       "    <tr>\n",
       "      <th>std</th>\n",
       "      <td>4.131237</td>\n",
       "    </tr>\n",
       "    <tr>\n",
       "      <th>min</th>\n",
       "      <td>-2.079015</td>\n",
       "    </tr>\n",
       "    <tr>\n",
       "      <th>25%</th>\n",
       "      <td>2.595951</td>\n",
       "    </tr>\n",
       "    <tr>\n",
       "      <th>50%</th>\n",
       "      <td>5.176874</td>\n",
       "    </tr>\n",
       "    <tr>\n",
       "      <th>75%</th>\n",
       "      <td>7.591765</td>\n",
       "    </tr>\n",
       "    <tr>\n",
       "      <th>max</th>\n",
       "      <td>17.141189</td>\n",
       "    </tr>\n",
       "  </tbody>\n",
       "</table>\n",
       "</div>"
      ],
      "text/plain": [
       "            Nums\n",
       "count  32.000000\n",
       "mean    5.279325\n",
       "std     4.131237\n",
       "min    -2.079015\n",
       "25%     2.595951\n",
       "50%     5.176874\n",
       "75%     7.591765\n",
       "max    17.141189"
      ]
     },
     "execution_count": 3,
     "metadata": {},
     "output_type": "execute_result"
    }
   ],
   "source": [
    "# Отображение сводной статистики по данным\n",
    "df.describe()"
   ]
  },
  {
   "cell_type": "code",
   "execution_count": 4,
   "id": "79ee01c7-e41f-4b5d-8c46-404a62bd9ea0",
   "metadata": {},
   "outputs": [],
   "source": [
    "# Определение функции для вычисления интервальных данных\n",
    "def interval(df):\n",
    "    height = df.Nums\n",
    "    # m = round(1 + np.log2(len(height)))  # Вычисление количества интервалов 'm'\n",
    "    # h = (np.max(height) - np.min(height)) / m  # Вычисление ширины интервала 'h'\n",
    "    m = round(1 + 3.322 * np.log10(len(height)) )  # Увеличено количество интервалов\n",
    "    h = (np.max(height) - np.min(height)) / m  # Изменено начальное значение h\n",
    "\n",
    "    interval = [np.min(height) - 0.01]  # Инициализация списка интервалов\n",
    "    for k in range(1, m + 2):\n",
    "        interval = np.append(interval, interval[k - 1] + h)  # Генерация интервалов\n",
    "    interval_1 = interval[1::]  # Верхние границы интервалов\n",
    "    interval_2 = interval[:-1]  # Нижние границы интервалов\n",
    "    height = sorted(height)  # Сортировка данных\n",
    "    abs_freq_var = [0] * (m + 1)  # Инициализация списка абсолютных частот\n",
    "    i = 0\n",
    "    for k in range(len(height)):\n",
    "        for j in range(len(interval_1)):\n",
    "            if (height[k] > interval_2[j] and height[k] < interval_1[j]):\n",
    "                abs_freq_var[j] += 1  # Вычисление абсолютных частот для каждого интервала\n",
    "\n",
    "    var_series_2 = pd.DataFrame([interval_2, interval_1])  # Создание DataFrame для интервалов\n",
    "    rel_freq_var = np.array(abs_freq_var) / len(df)  # Вычисление относительных частот\n",
    "    var_series_2 = var_series_2.T  # Транспонирование DataFrame\n",
    "    var_series_2.columns = ['left', 'right']\n",
    "    var_series_2 = var_series_2.join(\n",
    "        [pd.Series(abs_freq_var, name='abs_freq').T, pd.Series(rel_freq_var, name='rel_freq').T])  # Добавление столбцов\n",
    "    return var_series_2, interval_1, interval_2, h"
   ]
  },
  {
   "cell_type": "code",
   "execution_count": 5,
   "id": "2afca6ab-e799-4474-ac3a-f0cb44f5a5cf",
   "metadata": {},
   "outputs": [],
   "source": [
    "# Вычисление интервальных данных\n",
    "var, int1, int2, h = interval(df)"
   ]
  },
  {
   "cell_type": "code",
   "execution_count": 6,
   "id": "511283f2-9e71-467d-aafa-cac4b71d11ca",
   "metadata": {},
   "outputs": [
    {
     "data": {
      "text/html": [
       "<div>\n",
       "<style scoped>\n",
       "    .dataframe tbody tr th:only-of-type {\n",
       "        vertical-align: middle;\n",
       "    }\n",
       "\n",
       "    .dataframe tbody tr th {\n",
       "        vertical-align: top;\n",
       "    }\n",
       "\n",
       "    .dataframe thead th {\n",
       "        text-align: right;\n",
       "    }\n",
       "</style>\n",
       "<table border=\"1\" class=\"dataframe\">\n",
       "  <thead>\n",
       "    <tr style=\"text-align: right;\">\n",
       "      <th></th>\n",
       "      <th>left</th>\n",
       "      <th>right</th>\n",
       "      <th>abs_freq</th>\n",
       "      <th>rel_freq</th>\n",
       "    </tr>\n",
       "  </thead>\n",
       "  <tbody>\n",
       "    <tr>\n",
       "      <th>0</th>\n",
       "      <td>-2.089015</td>\n",
       "      <td>1.114353</td>\n",
       "      <td>5</td>\n",
       "      <td>0.15625</td>\n",
       "    </tr>\n",
       "    <tr>\n",
       "      <th>1</th>\n",
       "      <td>1.114353</td>\n",
       "      <td>4.317720</td>\n",
       "      <td>9</td>\n",
       "      <td>0.28125</td>\n",
       "    </tr>\n",
       "    <tr>\n",
       "      <th>2</th>\n",
       "      <td>4.317720</td>\n",
       "      <td>7.521087</td>\n",
       "      <td>10</td>\n",
       "      <td>0.31250</td>\n",
       "    </tr>\n",
       "    <tr>\n",
       "      <th>3</th>\n",
       "      <td>7.521087</td>\n",
       "      <td>10.724455</td>\n",
       "      <td>6</td>\n",
       "      <td>0.18750</td>\n",
       "    </tr>\n",
       "    <tr>\n",
       "      <th>4</th>\n",
       "      <td>10.724455</td>\n",
       "      <td>13.927822</td>\n",
       "      <td>1</td>\n",
       "      <td>0.03125</td>\n",
       "    </tr>\n",
       "    <tr>\n",
       "      <th>5</th>\n",
       "      <td>13.927822</td>\n",
       "      <td>17.131189</td>\n",
       "      <td>0</td>\n",
       "      <td>0.00000</td>\n",
       "    </tr>\n",
       "    <tr>\n",
       "      <th>6</th>\n",
       "      <td>17.131189</td>\n",
       "      <td>20.334557</td>\n",
       "      <td>1</td>\n",
       "      <td>0.03125</td>\n",
       "    </tr>\n",
       "  </tbody>\n",
       "</table>\n",
       "</div>"
      ],
      "text/plain": [
       "        left      right  abs_freq  rel_freq\n",
       "0  -2.089015   1.114353         5   0.15625\n",
       "1   1.114353   4.317720         9   0.28125\n",
       "2   4.317720   7.521087        10   0.31250\n",
       "3   7.521087  10.724455         6   0.18750\n",
       "4  10.724455  13.927822         1   0.03125\n",
       "5  13.927822  17.131189         0   0.00000\n",
       "6  17.131189  20.334557         1   0.03125"
      ]
     },
     "execution_count": 6,
     "metadata": {},
     "output_type": "execute_result"
    }
   ],
   "source": [
    "var"
   ]
  },
  {
   "cell_type": "code",
   "execution_count": 7,
   "id": "0f258da3-c15d-4b05-8d2a-d6bf61662144",
   "metadata": {},
   "outputs": [],
   "source": [
    "# Подготовка меток интервалов для гистограммы\n",
    "interval_hist = list(map(str, np.array([x for x in zip(int2.round(2), int1.round(2))])))\n",
    "interval_hist = [x.replace(']', '') for x in interval_hist]\n",
    "interval_hist = [x.replace('[', '') for x in interval_hist]"
   ]
  },
  {
   "cell_type": "code",
   "execution_count": 8,
   "id": "04bcdd11-70e0-4bd2-b0fb-536048b02930",
   "metadata": {},
   "outputs": [
    {
     "data": {
      "text/plain": [
       "<BarContainer object of 7 artists>"
      ]
     },
     "execution_count": 8,
     "metadata": {},
     "output_type": "execute_result"
    },
    {
     "data": {
      "image/png": "[encoded data removed]",
      "text/plain": [
       "<Figure size 1200x600 with 1 Axes>"
      ]
     },
     "metadata": {},
     "output_type": "display_data"
    }
   ],
   "source": [
    "# Создание гистограммы\n",
    "plt.figure(figsize = (12, 6))\n",
    "plt.bar(int1, var['rel_freq'], width=h, edgecolor = 'r', tick_label = interval_hist)"
   ]
  },
  {
   "cell_type": "code",
   "execution_count": 13,
   "id": "806694e0-941d-461e-bff5-04d95a721d60",
   "metadata": {},
   "outputs": [],
   "source": [
    "# Функция для проверки нормальности с использованием критерия Пирсона\n",
    "# def chi2_pearson_norm(df1, df2):\n",
    "  # mean = df1.Nums.describe()['mean']\n",
    "  # std = df1.Nums.describe()['std']\n",
    "  # df2['Pi'] = (stats.norm.cdf((df2['right']-mean)/std) - 0.5 - (stats.norm.cdf((df2['left']-mean)/std) - 0.5))*len(df)\n",
    "  # chi2 = (((df2['abs_freq'] - df2['Pi'])**2)/df2['Pi']).sum()\n",
    "  # if chi2 < stats.chi2.ppf(0.95, len(df2) - 3):\n",
    "  #   return 'norm', df2, chi2, stats.chi2.ppf(0.95, len(df2) - 3)\n",
    "  # else:\n",
    "  #   return 'not norm'\n",
    "\n",
    "\n",
    "def chi2_pearson_norm(df1, df2):\n",
    "    # Рассчитываем среднее значение и стандартное отклонение данных\n",
    "    mean = df1.Nums.describe()['mean']\n",
    "    std = df1.Nums.describe()['std']\n",
    "    \n",
    "    # Рассчитываем ожидаемые частоты (Pi) для каждого интервала\n",
    "    df2['Pi'] = (stats.norm.cdf((df2['right'] - mean) / std) - 0.5 - (\n",
    "                stats.norm.cdf((df2['left'] - mean) / std) - 0.5)) * len(df1)\n",
    "    \n",
    "    # Рассчитываем значение статистики хи-квадрат\n",
    "    chi2 = (((df2['abs_freq'] - df2['Pi']) ** 2) / df2['Pi']).sum()\n",
    "    \n",
    "    # Проверяем, является ли значение статистики хи-квадрат меньше критического значения\n",
    "    if chi2 < stats.chi2.ppf(0.95, len(df2) - 3):\n",
    "        return 'norm', df2, chi2, stats.chi2.ppf(0.95, len(df2) - 3)\n",
    "    else:\n",
    "        return 'not norm'\n"
   ]
  },
  {
   "cell_type": "code",
   "execution_count": 14,
   "id": "b0beb901-73fd-49fd-86e2-9c8295538c41",
   "metadata": {},
   "outputs": [],
   "source": [
    "# Функция для проверки экспоненциального распределения с использованием критерия Пирсона\n",
    "def chi2_pearson_exp(df1, df2):\n",
    "  mean = df1.Nums.describe()['mean']\n",
    "  lambda_ = 1/mean\n",
    "  df2['Pi'] = (np.exp((-1)*lambda_*df2['left']) - np.exp((-1)*lambda_*df2['right']))*len(df1)\n",
    "  chi2 = (((df2['abs_freq'] - df2['Pi'])**2)/abs(df2['Pi'])).sum()\n",
    "  if chi2 < stats.chi2.ppf(0.95, len(df2) - 2):\n",
    "    return 'exp', df2, chi2, stats.chi2.ppf(0.95, len(df2) - 2)\n",
    "  else:\n",
    "    return 'not exp'"
   ]
  },
  {
   "cell_type": "code",
   "execution_count": 15,
   "id": "160e95f5-4add-49b8-ad04-f3669a462a57",
   "metadata": {},
   "outputs": [
    {
     "data": {
      "text/plain": [
       "'not exp'"
      ]
     },
     "execution_count": 15,
     "metadata": {},
     "output_type": "execute_result"
    }
   ],
   "source": [
    "# Проверка на экспоненциальное распределение с использованием определенной функции\n",
    "chi2_pearson_exp(df, var)"
   ]
  },
  {
   "cell_type": "code",
   "execution_count": 16,
   "id": "ec4b274a-aa6b-4c48-b365-11d9ddd50e62",
   "metadata": {},
   "outputs": [
    {
     "data": {
      "text/plain": [
       "'not norm'"
      ]
     },
     "execution_count": 16,
     "metadata": {},
     "output_type": "execute_result"
    }
   ],
   "source": [
    "# Проверка на нормальность с использованием определенной функции\n",
    "chi2_pearson_norm(df, var)"
   ]
  },
  {
   "cell_type": "code",
   "execution_count": 13,
   "id": "38538ae3-ae60-45fa-9ec0-83c5a12aad64",
   "metadata": {},
   "outputs": [],
   "source": [
    "# Фильтрация интервалов с нулевыми абсолютными частотами\n",
    "var_new = var[var['abs_freq'] != 0]"
   ]
  },
  {
   "cell_type": "code",
   "execution_count": 14,
   "id": "0bed741a-db21-4a0e-a785-25ec38327447",
   "metadata": {},
   "outputs": [],
   "source": [
    "# Создание DataFrame для натуральных логарифмов относительных частот\n",
    "anamorf = pd.DataFrame(np.log(var_new['rel_freq']))"
   ]
  },
  {
   "cell_type": "code",
   "execution_count": 15,
   "id": "f8748f7c-c9eb-43ca-9879-3cb34a1c6dce",
   "metadata": {},
   "outputs": [
    {
     "data": {
      "text/html": [
       "<div>\n",
       "<style scoped>\n",
       "    .dataframe tbody tr th:only-of-type {\n",
       "        vertical-align: middle;\n",
       "    }\n",
       "\n",
       "    .dataframe tbody tr th {\n",
       "        vertical-align: top;\n",
       "    }\n",
       "\n",
       "    .dataframe thead th {\n",
       "        text-align: right;\n",
       "    }\n",
       "</style>\n",
       "<table border=\"1\" class=\"dataframe\">\n",
       "  <thead>\n",
       "    <tr style=\"text-align: right;\">\n",
       "      <th></th>\n",
       "      <th>rel_freq</th>\n",
       "      <th>mean_int</th>\n",
       "      <th>x</th>\n",
       "    </tr>\n",
       "  </thead>\n",
       "  <tbody>\n",
       "    <tr>\n",
       "      <th>0</th>\n",
       "      <td>-1.856298</td>\n",
       "      <td>-0.487331</td>\n",
       "      <td>33.254320</td>\n",
       "    </tr>\n",
       "    <tr>\n",
       "      <th>1</th>\n",
       "      <td>-1.268511</td>\n",
       "      <td>2.716036</td>\n",
       "      <td>6.570448</td>\n",
       "    </tr>\n",
       "    <tr>\n",
       "      <th>2</th>\n",
       "      <td>-1.163151</td>\n",
       "      <td>5.919404</td>\n",
       "      <td>0.409701</td>\n",
       "    </tr>\n",
       "    <tr>\n",
       "      <th>3</th>\n",
       "      <td>-1.673976</td>\n",
       "      <td>9.122771</td>\n",
       "      <td>14.772079</td>\n",
       "    </tr>\n",
       "    <tr>\n",
       "      <th>4</th>\n",
       "      <td>-3.465736</td>\n",
       "      <td>12.326138</td>\n",
       "      <td>49.657581</td>\n",
       "    </tr>\n",
       "    <tr>\n",
       "      <th>6</th>\n",
       "      <td>-3.465736</td>\n",
       "      <td>18.732873</td>\n",
       "      <td>180.997960</td>\n",
       "    </tr>\n",
       "  </tbody>\n",
       "</table>\n",
       "</div>"
      ],
      "text/plain": [
       "   rel_freq   mean_int           x\n",
       "0 -1.856298  -0.487331   33.254320\n",
       "1 -1.268511   2.716036    6.570448\n",
       "2 -1.163151   5.919404    0.409701\n",
       "3 -1.673976   9.122771   14.772079\n",
       "4 -3.465736  12.326138   49.657581\n",
       "6 -3.465736  18.732873  180.997960"
      ]
     },
     "execution_count": 15,
     "metadata": {},
     "output_type": "execute_result"
    }
   ],
   "source": [
    "anamorf['mean_int'] = ((var['right'] + var['left'])/2)\n",
    "anamorf['x'] = (anamorf['mean_int'] - df['Nums'].mean())**2\n",
    "anamorf"
   ]
  },
  {
   "cell_type": "code",
   "execution_count": 16,
   "id": "23066040-0215-4821-bda9-a294134d52c9",
   "metadata": {},
   "outputs": [],
   "source": [
    "# Подготовка данных для регрессионного анализа\n",
    "X = np.array(anamorf['x'])\n",
    "y = np.array(anamorf['rel_freq'])\n",
    "X_1 = np.array(anamorf['mean_int'])"
   ]
  },
  {
   "cell_type": "code",
   "execution_count": 17,
   "id": "e22a8b38-b020-477b-b3da-1b86f85df251",
   "metadata": {},
   "outputs": [],
   "source": [
    "X_new = np.c_[X, np.ones(np.shape(X)[0])]\n",
    "X_new_1 = np.c_[X_1, np.ones(np.shape(X_1)[0])]"
   ]
  },
  {
   "cell_type": "code",
   "execution_count": 18,
   "id": "a3451ae8-8703-46a5-a75a-8cc6746acee0",
   "metadata": {},
   "outputs": [],
   "source": [
    "from sklearn.metrics import r2_score"
   ]
  },
  {
   "cell_type": "code",
   "execution_count": 19,
   "id": "65c51099-9d4b-4ede-934a-daa906b03d89",
   "metadata": {},
   "outputs": [],
   "source": [
    "# Расчет коэффициентов регрессии для нормального распределения\n",
    "W_1 = np.linalg.inv(X_new.T @ X_new) @ X_new.T @ y\n",
    "# Расчет коэффициентов регрессии для экспоненциального распределения\n",
    "W_2 = np.linalg.inv(X_new_1.T @ X_new_1) @ X_new_1.T @ y"
   ]
  },
  {
   "cell_type": "code",
   "execution_count": 20,
   "id": "98ccc2eb-f497-4ce0-8b75-24234ad587d7",
   "metadata": {},
   "outputs": [
    {
     "data": {
      "image/png": "[encoded data removed]",
      "text/plain": [
       "<Figure size 640x480 with 1 Axes>"
      ]
     },
     "metadata": {},
     "output_type": "display_data"
    },
    {
     "data": {
      "text/plain": [
       "<Figure size 500x500 with 0 Axes>"
      ]
     },
     "metadata": {},
     "output_type": "display_data"
    }
   ],
   "source": [
    "# Построение графика регрессии для показательного распределения\n",
    "fig, ax = plt.subplots()\n",
    "plt.figure(figsize=(5,5))\n",
    "ax.grid()\n",
    "ax.scatter(X_1,y)\n",
    "ax.plot(X_1, X_new_1@W_2,color='r')\n",
    "ax.set_xlabel(\"X\")\n",
    "ax.set_ylabel(\"ln(w)\")\n",
    "ax.set_title(f'Анаморфоза для показательного распределения; R2 = {r2_score(y, X_new_1@W_2).round(3)}')\n",
    "plt.show()"
   ]
  },
  {
   "cell_type": "code",
   "execution_count": 21,
   "id": "6176a113-5fcc-433f-9707-e184dc4068d0",
   "metadata": {},
   "outputs": [
    {
     "data": {
      "image/png": "[encoded data removed]",
      "text/plain": [
       "<Figure size 640x480 with 1 Axes>"
      ]
     },
     "metadata": {},
     "output_type": "display_data"
    },
    {
     "data": {
      "text/plain": [
       "<Figure size 500x500 with 0 Axes>"
      ]
     },
     "metadata": {},
     "output_type": "display_data"
    }
   ],
   "source": [
    "# Построение графика регрессии для нормального распределения\n",
    "fig, ax = plt.subplots()\n",
    "plt.figure(figsize=(5,5))\n",
    "ax.grid()\n",
    "ax.scatter(X,y)\n",
    "ax.plot(X, X_new@W_1,color='r')\n",
    "ax.set_xlabel(\"X\")\n",
    "ax.set_ylabel(\"ln(w)\")\n",
    "ax.set_title(f'Анаморфоза для нормального распределения; R2 = {r2_score(y, X_new@W_1).round(3)}')\n",
    "plt.show()"
   ]
  },
  {
   "cell_type": "code",
   "execution_count": 22,
   "id": "70614f94-2418-428b-98f5-2cf79e57b2d1",
   "metadata": {},
   "outputs": [
    {
     "data": {
      "text/plain": [
       "-1.8876330093086626"
      ]
     },
     "execution_count": 22,
     "metadata": {},
     "output_type": "execute_result"
    }
   ],
   "source": [
    "W_1[1]"
   ]
  },
  {
   "cell_type": "code",
   "execution_count": 23,
   "id": "cd6180ed-1025-4be3-83b5-a988d966b3f3",
   "metadata": {},
   "outputs": [
    {
     "name": "stdout",
     "output_type": "stream",
     "text": [
      "std = 3.296476242410818\n"
     ]
    }
   ],
   "source": [
    "# Расчет и отображение стандартного отклонения для нормального распределения\n",
    "print(\"std =\", np.sqrt(-1/(2*W_1[0])))"
   ]
  },
  {
   "cell_type": "code",
   "execution_count": 24,
   "id": "663d01e7-59b8-41f4-9561-f0733485710b",
   "metadata": {},
   "outputs": [
    {
     "name": "stdout",
     "output_type": "stream",
     "text": [
      "lambda = 2.406092444829821\n"
     ]
    }
   ],
   "source": [
    "# Расчет и отображение параметра λ для экспоненциального распределения\n",
    "print(\"lambda =\", -1/W_2[0])"
   ]
  },
  {
   "cell_type": "code",
   "execution_count": 25,
   "id": "5bf48589-15f0-461d-8046-7593cd5f2bd4",
   "metadata": {},
   "outputs": [
    {
     "data": {
      "text/plain": [
       "3.8895282379042886"
      ]
     },
     "execution_count": 25,
     "metadata": {},
     "output_type": "execute_result"
    }
   ],
   "source": [
    "6.137134296670262\n",
    "5.0600282499059235\n",
    "7.915783805274179\n",
    "11.906272763737153\n",
    "3.8895282379042886"
   ]
  },
  {
   "cell_type": "code",
   "execution_count": null,
   "id": "7e7d872d-371d-4eee-a98a-c2dbe2db23f7",
   "metadata": {},
   "outputs": [],
   "source": []
  }
 ],
 "metadata": {
  "kernelspec": {
   "display_name": "Python 3 (ipykernel)",
   "language": "python",
   "name": "python3"
  },
  "language_info": {
   "codemirror_mode": {
    "name": "ipython",
    "version": 3
   },
   "file_extension": ".py",
   "mimetype": "text/x-python",
   "name": "python",
   "nbconvert_exporter": "python",
   "pygments_lexer": "ipython3",
   "version": "3.11.6"
  }
 },
 "nbformat": 4,
 "nbformat_minor": 5
}
